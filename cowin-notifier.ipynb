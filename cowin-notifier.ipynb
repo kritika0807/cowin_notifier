{
  "nbformat": 4,
  "nbformat_minor": 0,
  "metadata": {
    "colab": {
      "name": "Untitled2.ipynb",
      "provenance": [],
      "history_visible": true
    },
    "kernelspec": {
      "name": "python3",
      "display_name": "Python 3"
    },
    "language_info": {
      "name": "python"
    }
  },
  "cells": [
    {
      "cell_type": "code",
      "metadata": {
        "id": "6Z-Z82FLFNdn"
      },
      "source": [
        "import requests\n",
        "import json\n",
        "from datetime import datetime, timedelta"
      ],
      "execution_count": 18,
      "outputs": []
    },
    {
      "cell_type": "code",
      "metadata": {
        "id": "u2IqHya8LERx"
      },
      "source": [
        "today = datetime.today()"
      ],
      "execution_count": 19,
      "outputs": []
    },
    {
      "cell_type": "code",
      "metadata": {
        "colab": {
          "base_uri": "https://localhost:8080/"
        },
        "id": "QJwRTWhfLGrI",
        "outputId": "34f40bee-a7e2-45a8-92ed-04b0004c66f7"
      },
      "source": [
        "today"
      ],
      "execution_count": 20,
      "outputs": [
        {
          "output_type": "execute_result",
          "data": {
            "text/plain": [
              "datetime.datetime(2021, 6, 12, 17, 24, 47, 299849)"
            ]
          },
          "metadata": {
            "tags": []
          },
          "execution_count": 20
        }
      ]
    },
    {
      "cell_type": "code",
      "metadata": {
        "id": "b58JA7ufLR0N"
      },
      "source": [
        "num_days = 7\n",
        "\n",
        "pin = [\"121003\"]"
      ],
      "execution_count": 21,
      "outputs": []
    },
    {
      "cell_type": "code",
      "metadata": {
        "id": "YRgsX3MJLWwD"
      },
      "source": [
        "all_dates = []"
      ],
      "execution_count": 22,
      "outputs": []
    },
    {
      "cell_type": "code",
      "metadata": {
        "id": "B48ZoUXpLZv9"
      },
      "source": [
        "for i in range(num_days):\n",
        "    all_dates.append(today+timedelta(i))"
      ],
      "execution_count": 23,
      "outputs": []
    },
    {
      "cell_type": "code",
      "metadata": {
        "colab": {
          "base_uri": "https://localhost:8080/"
        },
        "id": "Srtonu9hLa77",
        "outputId": "44fd38d9-232b-4e51-894e-a882c3163f9d"
      },
      "source": [
        "all_dates"
      ],
      "execution_count": 24,
      "outputs": [
        {
          "output_type": "execute_result",
          "data": {
            "text/plain": [
              "[datetime.datetime(2021, 6, 12, 17, 24, 47, 299849),\n",
              " datetime.datetime(2021, 6, 13, 17, 24, 47, 299849),\n",
              " datetime.datetime(2021, 6, 14, 17, 24, 47, 299849),\n",
              " datetime.datetime(2021, 6, 15, 17, 24, 47, 299849),\n",
              " datetime.datetime(2021, 6, 16, 17, 24, 47, 299849),\n",
              " datetime.datetime(2021, 6, 17, 17, 24, 47, 299849),\n",
              " datetime.datetime(2021, 6, 18, 17, 24, 47, 299849)]"
            ]
          },
          "metadata": {
            "tags": []
          },
          "execution_count": 24
        }
      ]
    },
    {
      "cell_type": "code",
      "metadata": {
        "id": "gkhV-I2SLcyh"
      },
      "source": [
        "final_dates = []"
      ],
      "execution_count": 25,
      "outputs": []
    },
    {
      "cell_type": "code",
      "metadata": {
        "id": "KSII-ODGLeIp"
      },
      "source": [
        "\n",
        "for i in all_dates:\n",
        "    final_dates.append(i.strftime(\"%d%m%y\"))"
      ],
      "execution_count": 26,
      "outputs": []
    },
    {
      "cell_type": "code",
      "metadata": {
        "colab": {
          "base_uri": "https://localhost:8080/"
        },
        "id": "p_RU45QTLeKN",
        "outputId": "b76afd4e-bb4d-4456-f409-6b35d12e4474"
      },
      "source": [
        "final_dates\n"
      ],
      "execution_count": 27,
      "outputs": [
        {
          "output_type": "execute_result",
          "data": {
            "text/plain": [
              "['120621', '130621', '140621', '150621', '160621', '170621', '180621']"
            ]
          },
          "metadata": {
            "tags": []
          },
          "execution_count": 27
        }
      ]
    },
    {
      "cell_type": "code",
      "metadata": {
        "id": "BZ5O_2zPQMF0"
      },
      "source": [
        "while True:\n",
        "    \n",
        "    for p in pin:\n",
        "        for d in final_dates:\n",
        "            URL = \"https://cdn-api.co-vin.in/api/v2/appointment/sessions/public/calendarByPin?pincode={}&date={}\".format(p,d)\n",
        "            \n",
        "            result=requests.get(URL)\n",
        "            #print(result.text)\n",
        "            \n",
        "            json_result=result.json()\n",
        "            \n",
        "            if json_result[\"centers\"]:\n",
        "                for center in json_result[\"centers\"]:\n",
        "                    for session in center[\"sessions\"]:\n",
        "                        print(\"pincode: \"+p)\n",
        "                        print(\"date: \"+d)\n",
        "                        print(\"Center Name: \", center[\"name\"])\n",
        "                        print(\"Center Address: \",center[\"address\"])\n",
        "                        print(\"\\n\")"
      ],
      "execution_count": null,
      "outputs": []
    }
  ]
}